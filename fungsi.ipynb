{
 "cells": [
  {
   "cell_type": "markdown",
   "metadata": {},
   "source": [
    "# fungsi"
   ]
  },
  {
   "cell_type": "markdown",
   "metadata": {},
   "source": [
    "fungsi merupakan sebuah program yang bisa dipanggil dan digunkan secara berulang kali. fungsi juga biasa disebut sub program.\n",
    "kiasanya kita nanti akan menulis program secara kompleks dan juga akan banyak memiliki fitur fitur yang bermacam macam.dari program program yang kompleks nantinya bisa dipecah dan digunakan pemanggilan fungsi.\n",
    "\n",
    "sebagai analogi dari fungsi anggota tubuh manusia memiliki beberapa fungsi dari anggota tubuhnya.seperti tangan untuk makan. kaki untuk berjalan. telinga untuk mendengar.fungsi anggota badan dalam satu tubuh berbeda beda dan akan bekerja ketika dibutuhkan pada suatu waktu. begitu juga dengan program dari program yang kompleks akan dipecah menjadi beberapa fungsi dan kita bisa memanggil fungsi tersebut ketika kita ingin memakai fungsi tersebut.\n",
    "\n",
    "fungsi membuat kode program menjadi reusable yang berarti dapat digunakan berkali kali. dan dengan fungsi akan membuat kode program lebih terorganisir , lebih mudah diatur, serta membuat programmer mudah memahami struktur dan fungsi program."
   ]
  },
  {
   "cell_type": "markdown",
   "metadata": {},
   "source": [
    "### Cara membuat fungsi"
   ]
  },
  {
   "cell_type": "markdown",
   "metadata": {},
   "source": [
    "untuk membuat fungsi kita harus memulai dengan kata kunci def dan diikuti dengan nama fungsi yang ingin kita buat.\n",
    "juga jangan lupa untuk mengisi statement/isi fungsi di dalam fungsi dengan indentasi.\n",
    "setelah itu bisa kita panggil langsung nama fungsinya."
   ]
  },
  {
   "cell_type": "code",
   "execution_count": 3,
   "metadata": {},
   "outputs": [
    {
     "name": "stdout",
     "output_type": "stream",
     "text": [
      "hallo semua !\n"
     ]
    }
   ],
   "source": [
    "#contoh pembuatan fungsi\n",
    "\n",
    "def hello():#fungsi\n",
    "    print(\"hallo semua !\") #isi fungsi\n",
    "hello()\n"
   ]
  },
  {
   "cell_type": "code",
   "execution_count": 4,
   "metadata": {},
   "outputs": [
    {
     "name": "stdout",
     "output_type": "stream",
     "text": [
      "hallo semua !\n",
      "hallo semua !\n",
      "hallo semua !\n"
     ]
    }
   ],
   "source": [
    "#contoh pembuatan fungsi\n",
    "\n",
    "def hello():#fungsi\n",
    "    print(\"hallo semua !\") #isi fungsi\n",
    "hello()\n",
    "hello()\n",
    "hello()"
   ]
  },
  {
   "cell_type": "markdown",
   "metadata": {},
   "source": [
    "### fungsi dengan parameter"
   ]
  },
  {
   "cell_type": "markdown",
   "metadata": {},
   "source": [
    "kita juga bisa memberikan nilai kedalam fungsi. caranya dengan menambahkan parameter.\n",
    "Parameter adalah sebuah variabel yang dapat menampung nilai yang nantinya akan diproses didalam fungsi.\n",
    "parameter dapat kita tambahkan setelah nama fungsi, didalam ().\n",
    "kita dapat memasukan beberapa parameter di dalam fungsi, dan menulisakanya di dalam kurung() dan memisahkanya dengan tanda koma. "
   ]
  },
  {
   "cell_type": "code",
   "execution_count": 16,
   "metadata": {},
   "outputs": [
    {
     "name": "stdout",
     "output_type": "stream",
     "text": [
      "halo selamat pagi !\n",
      "halo selamat siang !\n",
      "halo selamat sore !\n",
      "luas persegi panjang =  20\n",
      "luas persegi panjang =  15\n",
      "luas persegi panjang =  32\n",
      "1067617 merupakan bilangan ganjil\n",
      "11718717 merupakan bilangan ganjil\n"
     ]
    }
   ],
   "source": [
    "#contoh fungsi dengan parameter\n",
    "#fungsi untuk mengucapkan selamat berdasarkan waktunya\n",
    "def selamat(waktu):\n",
    "    print(\"halo selamat\",waktu,\"!\")\n",
    "    \n",
    "#pemanggilan fungsi\n",
    "selamat(\"pagi\")\n",
    "selamat(\"siang\")\n",
    "selamat(\"sore\")\n",
    "\n",
    "#fungsi untuk menentukan luas persegi panjang\n",
    "def luas_persegi_panjang(panjang,lebar):\n",
    "    luas = panjang * lebar\n",
    "    print(\"luas persegi panjang = \",luas)\n",
    "    \n",
    "#pemanggilan fungsi\n",
    "luas_persegi_panjang(4,5)\n",
    "luas_persegi_panjang(3,5)\n",
    "luas_persegi_panjang(4,8)\n",
    "\n",
    "#fungsi cetak ganjil genap\n",
    "def cetak_ganjil_genap(a):\n",
    "    if a % 2 ==0:\n",
    "        print('%s merupakan bilangan genap' % a)\n",
    "    else:\n",
    "        print('%s merupakan bilangan ganjil' % a)\n",
    "#pemanggilan fungsi\n",
    "cetak_ganjil_genap(1067617)\n",
    "cetak_ganjil_genap(11718717)\n",
    "\n",
    "    "
   ]
  },
  {
   "cell_type": "markdown",
   "metadata": {},
   "source": [
    "### fungsi yang mengembalikan nilai"
   ]
  },
  {
   "cell_type": "markdown",
   "metadata": {},
   "source": [
    "ada fungsi yang tidak mengembalikan nilai dan ada yang mengembalikan nilai.\n",
    "fungsi yang tidak mengembalikan nilai biasa disebut fungsi prosedur\n",
    "fungsi dapat juga mengembalikan nilai. gunanya adalah hasil proses yang didapat nantinya akan kita gunakan pada proses berikutnya.\n",
    "\n",
    "cara untuk mengembalikan nilai adalah menggunakn keyword return lalu diikuti dengan nilai atau variabel pada isi fungsi."
   ]
  },
  {
   "cell_type": "code",
   "execution_count": 24,
   "metadata": {},
   "outputs": [
    {
     "name": "stdout",
     "output_type": "stream",
     "text": [
      "luas persegi panjang adalah 20\n",
      "luas persegi panjang adalah 50\n",
      "luas persegi panjang adalah 55\n",
      "volume balok = 144\n",
      "volume balok = 504\n"
     ]
    }
   ],
   "source": [
    "#fungsi untuk menentukan luas persegi panjang\n",
    "def luas_persegi_panjang(panjang,lebar):\n",
    "    luas = panjang * lebar\n",
    "    return luas\n",
    "\n",
    "print(\"luas persegi panjang adalah\",luas_persegi_panjang(4,5))\n",
    "print(\"luas persegi panjang adalah\",luas_persegi_panjang(10,5))\n",
    "print(\"luas persegi panjang adalah\",luas_persegi_panjang(11,5))\n",
    "\n",
    "def volume_balok(panjang,lebar,tinggi):\n",
    "    volume = luas_persegi_panjang(panjang,lebar) * tinggi#fungsi luas_persegi_panjang() dapat dipanggil lagi \n",
    "    return volume\n",
    "#pemanggilan fungsi\n",
    "print(\"volume balok =\",volume_balok(3,4,12))\n",
    "print(\"volume balok =\",volume_balok(6,7,12))"
   ]
  },
  {
   "cell_type": "markdown",
   "metadata": {},
   "source": [
    "# variabel lokal dan global"
   ]
  },
  {
   "cell_type": "raw",
   "metadata": {},
   "source": [
    "dalam fungsi dikenal ada variabel lokal dan variabel global. variabel lokal biasa dikenal dengan variabel yang dideklarasikan didalam isi fungsi sedangkan variabel global merupakan variabel yang dideklarasikan di luar fungsi.\n",
    "\n",
    "jika ada variabel lokal dan variabel global yang akan diekseskusi , maka variabel lokal akan diprioritaskan terlebih dahulu dibandingkan variabel global"
   ]
  },
  {
   "cell_type": "code",
   "execution_count": 5,
   "metadata": {},
   "outputs": [
    {
     "name": "stdout",
     "output_type": "stream",
     "text": [
      "50\n",
      "1980\n"
     ]
    }
   ],
   "source": [
    "#contoh variabel global\n",
    "panjang = 10 #variabel global\n",
    "lebar = 5#variabel global\n",
    "\n",
    "def luas_persegi_panjang():\n",
    "    luas = panjang * lebar\n",
    "    return luas\n",
    "print(luas_persegi_panjang())\n",
    "\n",
    "def volume_balok():\n",
    "    panjang = 11#variabel local\n",
    "    lebar = 20#variabel local\n",
    "    tinggi = 9#variabel local\n",
    "    volume = panjang * lebar * tinggi\n",
    "    return volume\n",
    "print(volume_balok())\n",
    "\n"
   ]
  }
 ],
 "metadata": {
  "kernelspec": {
   "display_name": "Python 3",
   "language": "python",
   "name": "python3"
  },
  "language_info": {
   "codemirror_mode": {
    "name": "ipython",
    "version": 3
   },
   "file_extension": ".py",
   "mimetype": "text/x-python",
   "name": "python",
   "nbconvert_exporter": "python",
   "pygments_lexer": "ipython3",
   "version": "3.7.2"
  }
 },
 "nbformat": 4,
 "nbformat_minor": 4
}
